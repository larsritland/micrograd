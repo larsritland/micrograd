{
 "cells": [
  {
   "cell_type": "code",
   "execution_count": 1,
   "metadata": {},
   "outputs": [],
   "source": [
    "from micrograd.engine import Value"
   ]
  },
  {
   "cell_type": "markdown",
   "metadata": {},
   "source": [
    "Training av very simple model: y = wx + b\n",
    "Using micrograd and a dataset of 2 samples"
   ]
  },
  {
   "cell_type": "code",
   "execution_count": 25,
   "metadata": {},
   "outputs": [],
   "source": [
    "# Dataset\n",
    "x = [Value(2.0),\n",
    "     Value(3.0)]\n",
    "y = [Value(6.0),\n",
    "     Value(8.0)]\n",
    "\n",
    "# Weights initialization\n",
    "w = Value(1.9)\n",
    "b = Value(2.1)"
   ]
  },
  {
   "cell_type": "code",
   "execution_count": 38,
   "metadata": {},
   "outputs": [
    {
     "data": {
      "text/plain": [
       "[Value(data=5.9833128, grad=0), Value(data=7.9184544, grad=0)]"
      ]
     },
     "execution_count": 38,
     "metadata": {},
     "output_type": "execute_result"
    }
   ],
   "source": [
    "# Forward pass\n",
    "ypred = [w*xi + b for xi in x]\n",
    "ypred"
   ]
  },
  {
   "cell_type": "code",
   "execution_count": 39,
   "metadata": {},
   "outputs": [
    {
     "name": "stdout",
     "output_type": "stream",
     "text": [
      "loss: 0.00692814752320001 | grad: 0\n"
     ]
    }
   ],
   "source": [
    "# Calculating the loss\n",
    "loss = sum((yout - ygt)**2 for ygt, yout in zip(y, ypred))\n",
    "print(f'loss: {loss.data} | grad: {loss.grad}')"
   ]
  },
  {
   "cell_type": "code",
   "execution_count": 40,
   "metadata": {},
   "outputs": [
    {
     "name": "stdout",
     "output_type": "stream",
     "text": [
      "w:-0.5560223999999998, b:-0.1964655999999998\n"
     ]
    }
   ],
   "source": [
    "# Reset gradients\n",
    "w.grad = 0\n",
    "b.grad = 0\n",
    "\n",
    "# Backpropagation - calculating gradients\n",
    "loss.backward()\n",
    "print(f'w:{w.grad}, b:{b.grad}')"
   ]
  },
  {
   "cell_type": "code",
   "execution_count": 41,
   "metadata": {},
   "outputs": [
    {
     "name": "stdout",
     "output_type": "stream",
     "text": [
      "w:1.9407018239999998, b:2.1149942560000006\n"
     ]
    }
   ],
   "source": [
    "# Updating weights\n",
    "learning_rate = 0.01\n",
    "w.data -= w.grad * learning_rate\n",
    "b.data -= b.grad * learning_rate\n",
    "print(f'w:{w.data}, b:{b.data}')"
   ]
  },
  {
   "cell_type": "code",
   "execution_count": 42,
   "metadata": {},
   "outputs": [
    {
     "name": "stdout",
     "output_type": "stream",
     "text": [
      "loss: 0.003969419313267231 w:1.9446199241599997, b:2.1163243033600008\n",
      "loss: 0.0008476125564242537 w:1.9594853214665826, b:2.1047955460220886\n",
      "loss: 0.0006483181829349201 w:1.9645670095197376, b:2.091651216768555\n",
      "loss: 0.0004958827746690806 w:1.9690113099789552, b:2.0801555586473692\n",
      "loss: 0.0003792886466647097 w:1.972898169299164, b:2.070101781608601\n",
      "loss: 0.0002901086402623226 w:1.9762975063857822, b:2.061309032930823\n",
      "loss: 0.00022189702722436041 w:1.979270470333404, b:2.0536191439455744\n",
      "loss: 0.00016972362714356192 w:1.9818705404084358, b:2.046893784814713\n",
      "loss: 0.00012981746520487978 w:1.9841444880627563, b:2.0410119761792678\n",
      "loss: 9.929421469392822e-05 w:1.9861332182836238, b:2.035867912917985\n"
     ]
    }
   ],
   "source": [
    "for i in range(1000):\n",
    "    ypred = [w*xi + b for xi in x]\n",
    "    loss = sum((yout - ygt)**2 for ygt, yout in zip(y, ypred))\n",
    "    w.grad = 0\n",
    "    b.grad = 0\n",
    "    loss.backward()\n",
    "    w.data -= w.grad * learning_rate\n",
    "    b.data -= b.grad * learning_rate\n",
    "    if i % 100 == 0:\n",
    "        print(f'loss: {loss.data} w:{w.data}, b:{b.data}')"
   ]
  },
  {
   "cell_type": "code",
   "execution_count": null,
   "metadata": {},
   "outputs": [],
   "source": []
  }
 ],
 "metadata": {
  "kernelspec": {
   "display_name": "Python 3",
   "language": "python",
   "name": "python3"
  },
  "language_info": {
   "codemirror_mode": {
    "name": "ipython",
    "version": 3
   },
   "file_extension": ".py",
   "mimetype": "text/x-python",
   "name": "python",
   "nbconvert_exporter": "python",
   "pygments_lexer": "ipython3",
   "version": "3.10.0rc2"
  }
 },
 "nbformat": 4,
 "nbformat_minor": 2
}
