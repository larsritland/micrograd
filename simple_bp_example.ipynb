{
 "cells": [
  {
   "cell_type": "code",
   "execution_count": null,
   "metadata": {},
   "outputs": [],
   "source": [
    "from micrograd.engine import Value"
   ]
  },
  {
   "cell_type": "markdown",
   "metadata": {},
   "source": [
    "Training av very simple model: y = wx + b\n",
    "using micrograd and a dataset of 2 samples"
   ]
  },
  {
   "cell_type": "code",
   "execution_count": null,
   "metadata": {},
   "outputs": [],
   "source": [
    "# Dataset\n",
    "x = [Value(2.0),\n",
    "     Value(3.0)]\n",
    "y = [Value(6.0),\n",
    "     Value(8.0)]\n",
    "\n",
    "# Weights initialization\n",
    "w = Value(1.9)\n",
    "b = Value(2.1)"
   ]
  },
  {
   "cell_type": "code",
   "execution_count": null,
   "metadata": {},
   "outputs": [],
   "source": [
    "# Forward pass\n",
    "ypred = [w*xi + b for xi in x] # pythonic for ypred = [] for xi in x: ypred.append(w*xi + b)\n",
    "ypred"
   ]
  },
  {
   "cell_type": "code",
   "execution_count": null,
   "metadata": {},
   "outputs": [],
   "source": [
    "# Calculating the loss\n",
    "loss = sum((yout - ygt)**2 for ygt, yout in zip(y, ypred)) # sum of squared errors - not full RMSE\n",
    "print(f'loss: {loss.data} | grad: {loss.grad}')"
   ]
  },
  {
   "cell_type": "code",
   "execution_count": null,
   "metadata": {},
   "outputs": [],
   "source": [
    "# Reset gradients\n",
    "w.grad = 0\n",
    "b.grad = 0\n",
    "\n",
    "# Backpropagation - calculating gradients\n",
    "loss.backward()\n",
    "print(f'w:{w.grad}, b:{b.grad}')"
   ]
  },
  {
   "cell_type": "code",
   "execution_count": null,
   "metadata": {},
   "outputs": [],
   "source": [
    "# function to verify the gradients calculated by backpropagation\n",
    "def verify_gradients(x, y, w, b):\n",
    "\n",
    "    h = 0.0001\n",
    "    ypred = [w*xi + b for xi in x]\n",
    "    loss = sum((yout - ygt)**2 for ygt, yout in zip(y, ypred))\n",
    "    L1 = loss.data\n",
    "\n",
    "    #w.data += h\n",
    "    b.data += h\n",
    "    ypred = [w*xi + b for xi in x]\n",
    "    loss = sum((yout - ygt)**2 for ygt, yout in zip(y, ypred))\n",
    "    L2 = loss.data\n",
    "\n",
    "    grad = (L2 - L1) / h\n",
    "    # Verify gradients\n",
    "    print(f'gradient:{grad}')\n",
    "\n",
    "verify_gradients(x, y, w, b)\n",
    "print(f'w:{w.grad}, b:{b.grad}')"
   ]
  },
  {
   "cell_type": "code",
   "execution_count": null,
   "metadata": {},
   "outputs": [],
   "source": [
    "# Updating weights\n",
    "learning_rate = 0.01\n",
    "w.data -= w.grad * learning_rate\n",
    "b.data -= b.grad * learning_rate\n",
    "print(f'w:{w.data}, b:{b.data}')"
   ]
  },
  {
   "cell_type": "code",
   "execution_count": null,
   "metadata": {},
   "outputs": [],
   "source": [
    "for i in range(1000):\n",
    "    ypred = [w*xi + b for xi in x]\n",
    "    loss = sum((yout - ygt)**2 for ygt, yout in zip(y, ypred))\n",
    "    w.grad = 0\n",
    "    b.grad = 0\n",
    "    loss.backward()\n",
    "    w.data -= w.grad * learning_rate\n",
    "    b.data -= b.grad * learning_rate\n",
    "    if i % 100 == 0:\n",
    "        print(f'loss: {loss.data} w:{w.data}, b:{b.data}')"
   ]
  }
 ],
 "metadata": {
  "kernelspec": {
   "display_name": "Python 3",
   "language": "python",
   "name": "python3"
  },
  "language_info": {
   "codemirror_mode": {
    "name": "ipython",
    "version": 3
   },
   "file_extension": ".py",
   "mimetype": "text/x-python",
   "name": "python",
   "nbconvert_exporter": "python",
   "pygments_lexer": "ipython3",
   "version": "3.10.0rc2"
  }
 },
 "nbformat": 4,
 "nbformat_minor": 2
}
